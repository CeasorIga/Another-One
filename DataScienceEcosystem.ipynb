{
 "cells": [
  {
   "cell_type": "markdown",
   "id": "243f908c-879d-44b1-9ca6-68cacc5b9413",
   "metadata": {},
   "source": [
    "# Data Science Tools and Ecosystem "
   ]
  },
  {
   "cell_type": "markdown",
   "id": "a847eb56-63c4-40a4-9f42-eb55d22314e5",
   "metadata": {},
   "source": [
    "In this notebook Data Science Tools and Ecosystem are summerized."
   ]
  },
  {
   "cell_type": "markdown",
   "id": "bb6f984e-bb39-4633-b5a8-2660dc7146f4",
   "metadata": {
    "tags": []
   },
   "source": [
    "__Objectives:__\n",
    "- List popular languages Used in data science.\n",
    "- List Libraries used by data scientists.\n",
    "- Open source development environments.\n",
    "- Evaluating mathematical expressions in Python.\n"
   ]
  },
  {
   "cell_type": "markdown",
   "id": "1c750cff-6f5a-463a-a966-b05685de43c6",
   "metadata": {},
   "source": [
    "Some of the popular languages that Data Scientists use are:\n",
    "1. Python\n",
    "2. R\n",
    "3. SQL"
   ]
  },
  {
   "cell_type": "markdown",
   "id": "0bf3574e-ff06-4bf6-96b0-9ff9877b1048",
   "metadata": {},
   "source": [
    "Some of the commonly used libraries used by Data Scientists include:\n",
    "1. Matplotlib\n",
    "2. NumPy\n",
    "3. Pandas "
   ]
  },
  {
   "cell_type": "markdown",
   "id": "67d8519d-4aca-4910-9b88-1d14c62ae5bb",
   "metadata": {},
   "source": [
    "| Data Science Tools |\n",
    "----------------------\n",
    "| Apache Spark       |\n",
    "| RStudio            |\n",
    "| Scikit-learn       |\n",
    "| TensorFlow         |"
   ]
  },
  {
   "cell_type": "markdown",
   "id": "e8e71b02-e66d-4368-b86c-5688b46e563d",
   "metadata": {
    "tags": []
   },
   "source": [
    "### Below are a few examples of evaluating arithmetic expressions in python"
   ]
  },
  {
   "cell_type": "code",
   "execution_count": 10,
   "id": "230f86b7-a1f9-4652-9b95-3e3fc45da91c",
   "metadata": {
    "tags": []
   },
   "outputs": [
    {
     "data": {
      "text/plain": [
       "17"
      ]
     },
     "execution_count": 10,
     "metadata": {},
     "output_type": "execute_result"
    }
   ],
   "source": [
    "# This is a simple arithmetic expression to multiply then add integers\n",
    "(3*4)+5"
   ]
  },
  {
   "cell_type": "code",
   "execution_count": 1,
   "id": "25a6b33f-b4ab-4782-925b-b82403fc6ddf",
   "metadata": {
    "tags": []
   },
   "outputs": [
    {
     "data": {
      "text/plain": [
       "3.3333333333333335"
      ]
     },
     "execution_count": 1,
     "metadata": {},
     "output_type": "execute_result"
    }
   ],
   "source": [
    "# This will convert 200 minutes to hours by dividing by 60\n",
    "200/60"
   ]
  },
  {
   "cell_type": "markdown",
   "id": "669cf2b7-02f5-4711-ad21-9c2674ef94c6",
   "metadata": {},
   "source": [
    "## Author\n",
    "Ceasor Iga"
   ]
  },
  {
   "cell_type": "code",
   "execution_count": null,
   "id": "53c35e2a-1403-49cf-a9bd-b81b45bed4ed",
   "metadata": {},
   "outputs": [],
   "source": []
  }
 ],
 "metadata": {
  "kernelspec": {
   "display_name": "Python",
   "language": "python",
   "name": "conda-env-python-py"
  },
  "language_info": {
   "codemirror_mode": {
    "name": "ipython",
    "version": 3
   },
   "file_extension": ".py",
   "mimetype": "text/x-python",
   "name": "python",
   "nbconvert_exporter": "python",
   "pygments_lexer": "ipython3",
   "version": "3.7.12"
  }
 },
 "nbformat": 4,
 "nbformat_minor": 5
}
